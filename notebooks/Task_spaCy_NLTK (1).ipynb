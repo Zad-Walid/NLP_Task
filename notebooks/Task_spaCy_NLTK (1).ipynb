{
 "cells": [
  {
   "cell_type": "markdown",
   "metadata": {
    "id": "INkn0v2NeAjk"
   },
   "source": [
    "# Import Libiraries"
   ]
  },
  {
   "cell_type": "code",
   "execution_count": null,
   "metadata": {
    "id": "OHspPr4oZ6h9"
   },
   "outputs": [],
   "source": [
    "import spacy"
   ]
  },
  {
   "cell_type": "code",
   "execution_count": 27,
   "metadata": {
    "id": "UTbhlniKjtAI"
   },
   "outputs": [],
   "source": [
    "import nltk\n",
    "from nltk.tokenize import word_tokenize\n",
    "from nltk.tag import pos_tag\n",
    "from nltk.chunk import ne_chunk\n",
    "from nltk.sentiment import SentimentIntensityAnalyzer"
   ]
  },
  {
   "cell_type": "code",
   "execution_count": 21,
   "metadata": {
    "colab": {
     "base_uri": "https://localhost:8080/"
    },
    "id": "hW2PEShykN6u",
    "outputId": "6432a426-5a46-4a83-9c63-7d5476d30d37"
   },
   "outputs": [
    {
     "name": "stderr",
     "output_type": "stream",
     "text": [
      "[nltk_data] Downloading package punkt to /root/nltk_data...\n",
      "[nltk_data]   Package punkt is already up-to-date!\n",
      "[nltk_data] Downloading package averaged_perceptron_tagger to\n",
      "[nltk_data]     /root/nltk_data...\n",
      "[nltk_data]   Package averaged_perceptron_tagger is already up-to-\n",
      "[nltk_data]       date!\n",
      "[nltk_data] Downloading package maxent_ne_chunker to\n",
      "[nltk_data]     /root/nltk_data...\n",
      "[nltk_data]   Package maxent_ne_chunker is already up-to-date!\n",
      "[nltk_data] Downloading package words to /root/nltk_data...\n",
      "[nltk_data]   Package words is already up-to-date!\n",
      "[nltk_data] Downloading package vader_lexicon to /root/nltk_data...\n",
      "[nltk_data]   Package vader_lexicon is already up-to-date!\n",
      "[nltk_data] Downloading package punkt_tab to /root/nltk_data...\n",
      "[nltk_data]   Package punkt_tab is already up-to-date!\n",
      "[nltk_data] Downloading package averaged_perceptron_tagger_eng to\n",
      "[nltk_data]     /root/nltk_data...\n",
      "[nltk_data]   Package averaged_perceptron_tagger_eng is already up-to-\n",
      "[nltk_data]       date!\n",
      "[nltk_data] Downloading package maxent_ne_chunker_tab to\n",
      "[nltk_data]     /root/nltk_data...\n",
      "[nltk_data]   Unzipping chunkers/maxent_ne_chunker_tab.zip.\n"
     ]
    },
    {
     "data": {
      "text/plain": [
       "True"
      ]
     },
     "execution_count": 21,
     "metadata": {},
     "output_type": "execute_result"
    }
   ],
   "source": [
    "import nltk\n",
    "nltk.download('punkt')\n",
    "nltk.download('averaged_perceptron_tagger')\n",
    "nltk.download('maxent_ne_chunker')\n",
    "nltk.download('words')\n",
    "nltk.download('vader_lexicon')\n",
    "nltk.download('punkt_tab')\n",
    "nltk.download('averaged_perceptron_tagger_eng')\n",
    "nltk.download('maxent_ne_chunker_tab')"
   ]
  },
  {
   "cell_type": "code",
   "execution_count": 3,
   "metadata": {
    "id": "OfOmaSbRbZtJ"
   },
   "outputs": [],
   "source": [
    "nlp = spacy.load('en_core_web_sm')"
   ]
  },
  {
   "cell_type": "markdown",
   "metadata": {
    "id": "R_WITOkHblia"
   },
   "source": [
    "# Name Entity Recognetion (ner)"
   ]
  },
  {
   "cell_type": "code",
   "execution_count": 4,
   "metadata": {
    "id": "yzn1WkoAbeGE"
   },
   "outputs": [],
   "source": [
    "text = \"\"\"Microsoft Corporation announced a $10 billion investment in OpenAI on Monday.\n",
    "CEO Satya Nadella stated that this partnership will accelerate AI innovation worldwide.\n",
    "The announcement was made at the company’s headquarters in Redmond, Washington.\n",
    "\"\"\""
   ]
  },
  {
   "cell_type": "code",
   "execution_count": 5,
   "metadata": {
    "colab": {
     "base_uri": "https://localhost:8080/"
    },
    "id": "PKi_Jli2buKC",
    "outputId": "bf448e1a-a297-4ecf-cc98-f67bb50267cf"
   },
   "outputs": [
    {
     "name": "stdout",
     "output_type": "stream",
     "text": [
      "Microsoft Corporation announced a $10 billion investment in OpenAI on Monday.\n",
      "CEO Satya Nadella stated that this partnership will accelerate AI innovation worldwide.\n",
      "The announcement was made at the company’s headquarters in Redmond, Washington.\n",
      "\n"
     ]
    }
   ],
   "source": [
    "ner = nlp(text)\n",
    "print(ner)"
   ]
  },
  {
   "cell_type": "code",
   "execution_count": 6,
   "metadata": {
    "colab": {
     "base_uri": "https://localhost:8080/"
    },
    "id": "tf5qB_Vbbxqe",
    "outputId": "5504d666-e233-448f-eb6f-5a55cbdef279"
   },
   "outputs": [
    {
     "name": "stdout",
     "output_type": "stream",
     "text": [
      "Microsoft Corporation ORG\n",
      "$10 billion MONEY\n",
      "OpenAI GPE\n",
      "Monday DATE\n",
      "Satya Nadella PERSON\n",
      "AI GPE\n",
      "Redmond GPE\n",
      "Washington GPE\n"
     ]
    }
   ],
   "source": [
    "for ent in ner.ents:\n",
    "    print(ent.text, ent.label_)"
   ]
  },
  {
   "cell_type": "code",
   "execution_count": 7,
   "metadata": {
    "colab": {
     "base_uri": "https://localhost:8080/"
    },
    "id": "XMybBu5QcHXr",
    "outputId": "d13e436d-a492-4ed8-897b-29d555497d67"
   },
   "outputs": [
    {
     "name": "stdout",
     "output_type": "stream",
     "text": [
      "Microsoft Corporation 0 21 ORG\n",
      "$10 billion 34 45 MONEY\n",
      "OpenAI 60 66 GPE\n",
      "Monday 70 76 DATE\n",
      "Satya Nadella 82 95 PERSON\n",
      "AI 141 143 GPE\n",
      "Redmond 225 232 GPE\n",
      "Washington 234 244 GPE\n"
     ]
    }
   ],
   "source": [
    "for ent in ner.ents:\n",
    "    print(ent.text, ent.start_char, ent.end_char, ent.label_)"
   ]
  },
  {
   "cell_type": "code",
   "execution_count": 26,
   "metadata": {
    "id": "YgEB9WUIjn2x"
   },
   "outputs": [],
   "source": [
    "tokens = word_tokenize(text)\n",
    "pos_tags = pos_tag(tokens)\n",
    "ner = ne_chunk(pos_tags)"
   ]
  },
  {
   "cell_type": "code",
   "execution_count": 25,
   "metadata": {
    "colab": {
     "base_uri": "https://localhost:8080/"
    },
    "id": "UzZ9J0xBkg3-",
    "outputId": "b807610b-c2c1-47f5-b854-07c88a3d3913"
   },
   "outputs": [
    {
     "name": "stdout",
     "output_type": "stream",
     "text": [
      "Microsoft (PERSON)\n",
      "Corporation (ORGANIZATION)\n",
      "OpenAI (GPE)\n",
      "CEO Satya Nadella (ORGANIZATION)\n",
      "Redmond (GPE)\n",
      "Washington (GPE)\n"
     ]
    }
   ],
   "source": [
    "for chunk in ner:\n",
    "    if hasattr(chunk, 'label'):\n",
    "        print(f\"{' '.join(c[0] for c in chunk)} ({chunk.label()})\")"
   ]
  },
  {
   "cell_type": "markdown",
   "metadata": {
    "id": "zBG183ETcqrc"
   },
   "source": [
    "# Setiment Analysis"
   ]
  },
  {
   "cell_type": "code",
   "execution_count": 28,
   "metadata": {
    "id": "lZnClPVMlADa"
   },
   "outputs": [],
   "source": [
    "s_a = SentimentIntensityAnalyzer()\n",
    "sentiment = s_a.polarity_scores(text)"
   ]
  },
  {
   "cell_type": "code",
   "execution_count": 29,
   "metadata": {
    "colab": {
     "base_uri": "https://localhost:8080/"
    },
    "id": "u90jOa26lMG-",
    "outputId": "6b246a16-3183-41b7-d2a6-171eea1f10dd"
   },
   "outputs": [
    {
     "name": "stdout",
     "output_type": "stream",
     "text": [
      "Neg: 0.00\n",
      "Neu: 0.93\n",
      "Pos: 0.07\n",
      "Compound: 0.38\n"
     ]
    }
   ],
   "source": [
    "for k, v in sentiment.items():\n",
    "    print(f\"{k.capitalize()}: {v:.2f}\")"
   ]
  }
 ],
 "metadata": {
  "colab": {
   "provenance": []
  },
  "kernelspec": {
   "display_name": "Python 3",
   "name": "python3"
  },
  "language_info": {
   "name": "python"
  }
 },
 "nbformat": 4,
 "nbformat_minor": 0
}
