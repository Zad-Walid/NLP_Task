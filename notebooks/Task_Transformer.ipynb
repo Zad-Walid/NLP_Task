{
 "cells": [
  {
   "cell_type": "code",
   "execution_count": 2,
   "metadata": {
    "id": "dW2Gdbp5Lhew"
   },
   "outputs": [],
   "source": [
    "from transformers import AutoTokenizer, AutoModelForTokenClassification\n",
    "from transformers import pipeline"
   ]
  },
  {
   "cell_type": "markdown",
   "metadata": {
    "id": "_yJeT3UjPcBb"
   },
   "source": [
    "# Name Entity Recognition (ner)"
   ]
  },
  {
   "cell_type": "code",
   "execution_count": 3,
   "metadata": {
    "id": "Q1mgZysoLpMU"
   },
   "outputs": [],
   "source": [
    "text = \"\"\"Microsoft Corporation announced a $10 billion investment in OpenAI on Monday.\n",
    "CEO Satya Nadella stated that this partnership will accelerate AI innovation worldwide.\n",
    "The announcement was made at the company’s headquarters in Redmond, Washington.\n",
    "\"\"\""
   ]
  },
  {
   "cell_type": "code",
   "execution_count": 4,
   "metadata": {
    "colab": {
     "base_uri": "https://localhost:8080/",
     "height": 385,
     "referenced_widgets": [
      "6d41a790527f4edca47c4fe468801485",
      "4296cef3ca264212ac2a24d6a3e33ec7",
      "55d7a98d852f4fbcbafa22da0f24df6b",
      "156600db5ff742f8ba036804e3141fb7",
      "b5d1da3218ad4c8a838e20748e4ce581",
      "df454379cfdb4d14aa0292b38cc62804",
      "6824fec7e8ba4fb2b5f03884a349835e",
      "9af788c781af407aae462dd5dd297887",
      "dc358467bbb648508d80bc9094bdbeb9",
      "a35c8f43add94ea98a3781c6a44712c7",
      "b436a7b843e94b51851613412cfa89a4",
      "ea409d1f104c4f2f9e1e75a9ff12e17a",
      "0aa4ad5f6f3b45e9b191dc484085151b",
      "d10431c6e27348dda8a914cc952454b2",
      "76c9925260b147d2b4ecb04605c13554",
      "a6144804b81240d1a684c352d5e8d7c6",
      "423cf014c4024f3f8acb09a4e41a965d",
      "cc475bae6a444c3da305139f405bee5b",
      "8a9d78ac9fcb44cd8bc171b13546f768",
      "757ac849d99c440e853a65fba3efeb6c",
      "1dc5030e1a7142fd9384584421bd3e3c",
      "216dfd6062f844179b5bb44a3182486e",
      "0daa43a0db1d4e9d9bb23890e0e56f5c",
      "10a8baecfc57486a853de997d8aaa842",
      "24e1567c5a2f45b38968ffafc0a90869",
      "7c4658326fcd4a2483478227ba256dee",
      "e923cd80f54c47719696d6455486b855",
      "1b0d8bd363514e9ebf4d837cefb6225d",
      "9896bf7b7d0c4c68a4c00055e5058956",
      "d3ab3d5ecdb949c0b71ba72ae906eb79",
      "b4e5663e74bf47209a6ae84b8ebabb90",
      "d64444aacac4498c83042a92727389a5",
      "d17e77b8883b4404a439e678f00ee5f3",
      "a58cddf3ff0649f1b1773dd45a87cd08",
      "c8923d005be14b5ab24c2937248315cb",
      "9bfc529db28646dfb910f7eb0a47f29b",
      "3e0d5ecc662c4bb78510517a4f69159e",
      "64b4a54ec0db409f9fe1b47fab716d59",
      "0625c47589334f7ebdfd8eb1443485c3",
      "8f2a04ddb79640d980f0e77bef39699d",
      "22b519a7a8b844778acb6640e549c768",
      "a921c7b2e2ea4e2a8b0f6172e4301174",
      "01d8b7c591af431bb649b5983065d5b1",
      "df2f5f61135f49cfbe6df2a42916319c",
      "097dfc00ea8d424a98189be44f29fdeb",
      "60ac86165fe64c1b9b1487f1cf140cb3",
      "013a71f4a1cf4fdabd694cdf969363de",
      "d691cf8c77a14abb89dba8e84f2ff401",
      "f92a21fa811e4a1bbee0f932b675e69f",
      "bd4fd00067d54dcdbdb832bacf64c7a2",
      "519f7435664f4180a9a671066b0f05f9",
      "e6d6951789eb4c6fb58cc8d6b6398c7c",
      "16d16822ac14400aa36377a118477c49",
      "a9f723055e4d4eabb26a8ea1857cbc23",
      "b463dbb9d4714eb382f8884475847583",
      "86c008bdc98840c4a06e2fd4ebf6aed7",
      "062d25ce81e64ff9b277b94b262d466d",
      "e5ff3487a73f458c8a0f27230da019e6",
      "b07a2837101849d6b5f756f71149efe8",
      "0bc4b0461c8149c79ca994d995d1ad53",
      "4413f002e6644269b0625b985c5ee496",
      "5dae3b7b711243efa02c324e5b6e491a",
      "64193d47ec2849dc9455d719fd9b9ab7",
      "a0108c473bf342969396853aad582f68",
      "744d7daee90c4c40b2869e7ad93d3dd0",
      "ea4def2f566245ccacf39936d35fc79c"
     ]
    },
    "id": "A__hjF94L42W",
    "outputId": "2486d83c-cac0-4801-dd5f-9f11fb8597b8"
   },
   "outputs": [
    {
     "name": "stderr",
     "output_type": "stream",
     "text": [
      "/usr/local/lib/python3.11/dist-packages/huggingface_hub/utils/_auth.py:94: UserWarning: \n",
      "The secret `HF_TOKEN` does not exist in your Colab secrets.\n",
      "To authenticate with the Hugging Face Hub, create a token in your settings tab (https://huggingface.co/settings/tokens), set it as secret in your Google Colab and restart your session.\n",
      "You will be able to reuse this secret in all of your notebooks.\n",
      "Please note that authentication is recommended but still optional to access public models or datasets.\n",
      "  warnings.warn(\n"
     ]
    },
    {
     "data": {
      "application/vnd.jupyter.widget-view+json": {
       "model_id": "6d41a790527f4edca47c4fe468801485",
       "version_major": 2,
       "version_minor": 0
      },
      "text/plain": [
       "tokenizer_config.json:   0%|          | 0.00/59.0 [00:00<?, ?B/s]"
      ]
     },
     "metadata": {},
     "output_type": "display_data"
    },
    {
     "data": {
      "application/vnd.jupyter.widget-view+json": {
       "model_id": "ea409d1f104c4f2f9e1e75a9ff12e17a",
       "version_major": 2,
       "version_minor": 0
      },
      "text/plain": [
       "config.json:   0%|          | 0.00/829 [00:00<?, ?B/s]"
      ]
     },
     "metadata": {},
     "output_type": "display_data"
    },
    {
     "data": {
      "application/vnd.jupyter.widget-view+json": {
       "model_id": "0daa43a0db1d4e9d9bb23890e0e56f5c",
       "version_major": 2,
       "version_minor": 0
      },
      "text/plain": [
       "vocab.txt: 0.00B [00:00, ?B/s]"
      ]
     },
     "metadata": {},
     "output_type": "display_data"
    },
    {
     "data": {
      "application/vnd.jupyter.widget-view+json": {
       "model_id": "a58cddf3ff0649f1b1773dd45a87cd08",
       "version_major": 2,
       "version_minor": 0
      },
      "text/plain": [
       "added_tokens.json:   0%|          | 0.00/2.00 [00:00<?, ?B/s]"
      ]
     },
     "metadata": {},
     "output_type": "display_data"
    },
    {
     "data": {
      "application/vnd.jupyter.widget-view+json": {
       "model_id": "097dfc00ea8d424a98189be44f29fdeb",
       "version_major": 2,
       "version_minor": 0
      },
      "text/plain": [
       "special_tokens_map.json:   0%|          | 0.00/112 [00:00<?, ?B/s]"
      ]
     },
     "metadata": {},
     "output_type": "display_data"
    },
    {
     "data": {
      "application/vnd.jupyter.widget-view+json": {
       "model_id": "86c008bdc98840c4a06e2fd4ebf6aed7",
       "version_major": 2,
       "version_minor": 0
      },
      "text/plain": [
       "model.safetensors:   0%|          | 0.00/433M [00:00<?, ?B/s]"
      ]
     },
     "metadata": {},
     "output_type": "display_data"
    },
    {
     "name": "stderr",
     "output_type": "stream",
     "text": [
      "Some weights of the model checkpoint at dslim/bert-base-NER were not used when initializing BertForTokenClassification: ['bert.pooler.dense.bias', 'bert.pooler.dense.weight']\n",
      "- This IS expected if you are initializing BertForTokenClassification from the checkpoint of a model trained on another task or with another architecture (e.g. initializing a BertForSequenceClassification model from a BertForPreTraining model).\n",
      "- This IS NOT expected if you are initializing BertForTokenClassification from the checkpoint of a model that you expect to be exactly identical (initializing a BertForSequenceClassification model from a BertForSequenceClassification model).\n"
     ]
    }
   ],
   "source": [
    "tokenizer = AutoTokenizer.from_pretrained(\"dslim/bert-base-NER\")\n",
    "model = AutoModelForTokenClassification.from_pretrained(\"dslim/bert-base-NER\")"
   ]
  },
  {
   "cell_type": "code",
   "execution_count": 5,
   "metadata": {
    "colab": {
     "base_uri": "https://localhost:8080/"
    },
    "id": "8HsknL-ZL64P",
    "outputId": "cbe0dfaf-da32-4c12-b54e-d1e127beff13"
   },
   "outputs": [
    {
     "name": "stderr",
     "output_type": "stream",
     "text": [
      "Device set to use cuda:0\n",
      "/usr/local/lib/python3.11/dist-packages/transformers/pipelines/token_classification.py:170: UserWarning: `grouped_entities` is deprecated and will be removed in version v5.0.0, defaulted to `aggregation_strategy=\"AggregationStrategy.SIMPLE\"` instead.\n",
      "  warnings.warn(\n"
     ]
    }
   ],
   "source": [
    "nlp = pipeline(\"ner\", model=model, tokenizer=tokenizer , grouped_entities = True)"
   ]
  },
  {
   "cell_type": "code",
   "execution_count": 6,
   "metadata": {
    "colab": {
     "base_uri": "https://localhost:8080/"
    },
    "id": "1ZXsw0sJL9w1",
    "outputId": "776b1d93-c66d-41b2-d32d-2693fe5a929c"
   },
   "outputs": [
    {
     "name": "stdout",
     "output_type": "stream",
     "text": [
      "[{'entity_group': 'ORG', 'score': np.float32(0.9992714), 'word': 'Microsoft Corporation', 'start': 0, 'end': 21}, {'entity_group': 'ORG', 'score': np.float32(0.90710396), 'word': 'OpenAI', 'start': 60, 'end': 66}, {'entity_group': 'PER', 'score': np.float32(0.9620562), 'word': 'Satya Nadella', 'start': 82, 'end': 95}, {'entity_group': 'MISC', 'score': np.float32(0.99135613), 'word': 'AI', 'start': 141, 'end': 143}, {'entity_group': 'LOC', 'score': np.float32(0.95440245), 'word': 'Redmond', 'start': 225, 'end': 232}, {'entity_group': 'LOC', 'score': np.float32(0.99818677), 'word': 'Washington', 'start': 234, 'end': 244}]\n"
     ]
    }
   ],
   "source": [
    "ner_results = nlp(text)\n",
    "print(ner_results)"
   ]
  },
  {
   "cell_type": "code",
   "execution_count": 7,
   "metadata": {
    "colab": {
     "base_uri": "https://localhost:8080/"
    },
    "id": "DVowIbpXMP1v",
    "outputId": "9097007f-38f6-4ff4-a732-37bf8743642e"
   },
   "outputs": [
    {
     "name": "stdout",
     "output_type": "stream",
     "text": [
      "Microsoft Corporation (ORG) - Score: 1.00\n",
      "OpenAI (ORG) - Score: 0.91\n",
      "Satya Nadella (PER) - Score: 0.96\n",
      "AI (MISC) - Score: 0.99\n",
      "Redmond (LOC) - Score: 0.95\n",
      "Washington (LOC) - Score: 1.00\n"
     ]
    }
   ],
   "source": [
    "for entity in ner_results:\n",
    "    print(f\"{entity['word']} ({entity['entity_group']}) - Score: {entity['score']:.2f}\")"
   ]
  },
  {
   "cell_type": "code",
   "execution_count": 8,
   "metadata": {
    "id": "VOEVfc3vNk01"
   },
   "outputs": [],
   "source": [
    "text_2 = \"\"\"Dr. Sarah Lee from Johns Hopkins Hospital presented a study on the use of Remdesivir for COVID-19 patients.\n",
    "The findings were published in The Lancet on March 3, 2023.\n",
    "\"\"\""
   ]
  },
  {
   "cell_type": "code",
   "execution_count": 9,
   "metadata": {
    "colab": {
     "base_uri": "https://localhost:8080/"
    },
    "id": "ZSOh14DyO4Y_",
    "outputId": "ea5e11e3-bf4b-4e35-e4b9-45b8cef7188a"
   },
   "outputs": [
    {
     "name": "stdout",
     "output_type": "stream",
     "text": [
      "[{'entity_group': 'PER', 'score': np.float32(0.99948883), 'word': 'Sarah Lee', 'start': 4, 'end': 13}, {'entity_group': 'LOC', 'score': np.float32(0.9991717), 'word': 'Johns Hopkins Hospital', 'start': 19, 'end': 41}, {'entity_group': 'MISC', 'score': np.float32(0.6587718), 'word': 'Re', 'start': 74, 'end': 76}, {'entity_group': 'ORG', 'score': np.float32(0.50892603), 'word': '##desiv', 'start': 77, 'end': 82}, {'entity_group': 'MISC', 'score': np.float32(0.6624677), 'word': 'CO', 'start': 89, 'end': 91}, {'entity_group': 'ORG', 'score': np.float32(0.99575424), 'word': 'The Lancet', 'start': 139, 'end': 149}]\n"
     ]
    }
   ],
   "source": [
    "ner_results_2 = nlp(text_2)\n",
    "print(ner_results_2)"
   ]
  },
  {
   "cell_type": "code",
   "execution_count": 10,
   "metadata": {
    "colab": {
     "base_uri": "https://localhost:8080/"
    },
    "id": "rJ2tWTYXO8EM",
    "outputId": "ace435ef-3c0a-41e7-fdf7-665261353cd1"
   },
   "outputs": [
    {
     "name": "stdout",
     "output_type": "stream",
     "text": [
      "Sarah Lee (PER) - Score: 1.00\n",
      "Johns Hopkins Hospital (LOC) - Score: 1.00\n",
      "Re (MISC) - Score: 0.66\n",
      "##desiv (ORG) - Score: 0.51\n",
      "CO (MISC) - Score: 0.66\n",
      "The Lancet (ORG) - Score: 1.00\n"
     ]
    }
   ],
   "source": [
    "for entity in ner_results_2:\n",
    "    print(f\"{entity['word']} ({entity['entity_group']}) - Score: {entity['score']:.2f}\")"
   ]
  },
  {
   "cell_type": "markdown",
   "metadata": {
    "id": "7C_P03jyPgv-"
   },
   "source": [
    "# Text Summerization"
   ]
  },
  {
   "cell_type": "code",
   "execution_count": 11,
   "metadata": {
    "id": "blPRtLj-RZm6"
   },
   "outputs": [],
   "source": [
    "Article = \"\"\"BART is a transformer encoder-encoder (seq2seq) model with a bidirectional (BERT-like) encoder and an autoregressive (GPT-like) decoder. BART is pre-trained by (1) corrupting text with an arbitrary noising function, and (2) learning a model to reconstruct the original text.\n",
    "BART is particularly effective when fine-tuned for text generation (e.g. summarization, translation) but also works well for comprehension tasks (e.g. text classification, question answering).\n",
    "This particular checkpoint has been fine-tuned on CNN Daily Mail, a large collection of text-summary pairs.\"\"\""
   ]
  },
  {
   "cell_type": "code",
   "execution_count": 12,
   "metadata": {
    "colab": {
     "base_uri": "https://localhost:8080/",
     "height": 226,
     "referenced_widgets": [
      "cc977304fcfc4ce1b85ae5ef6827fbfe",
      "b5f7a8b9b7d84823bfcda53e6b9ecae3",
      "c476dbb8bcff4fe7b3f320a3aece414b",
      "6f0a9adc331d48a5888412de6837579d",
      "21059d44a22e442eb45615c788be1659",
      "7dae862442984fd89cb43966117af0e2",
      "957ef732dd7748c0b56b3a1a5df55467",
      "02ab36512c5e4ca6accc63fb927450ea",
      "d7095c04aa7142268c1a6986067a4fe9",
      "7af23b9629be4ed6b366cfa2824291e0",
      "7d0331ff0de44c9d9273bc1097536042",
      "01590e751bda4e8db69116d9693f1001",
      "07ce9279337346a189994e801dc16af7",
      "3933f1357e084e9085cf44abe979a70c",
      "1f781388f027424385972a207be0c198",
      "6c1b4bc405b249468c1f5d87d112998a",
      "2967ac71356f4c48820ed733512a8982",
      "ce3667f2cde340dda8f36b126773578e",
      "a190222716954bd1b27807b3f59fca8d",
      "47e16ee22352487f9c56c9173ae94156",
      "736a04099a494750921eddca9bae0e97",
      "3f5a96592e8b424e9805171301c0fec0",
      "38edf5f96e7f4643946e49624162d1b6",
      "7e254a61bd9d43e0b4b337f034af67fb",
      "4ef7001a7006424aaeeb0e158a8737b0",
      "968bf1d47b9d4c9184dbdc719aa2a8e3",
      "4aaa041188754aec98189b15f4b91d5b",
      "d85bbe21e15b4c42a4994787d141c6ac",
      "7bae74736396423cb369eb9c665565ea",
      "34c9beb667234f5c9d215987f6aa6489",
      "cceb40dd97144200b113d124dece6c61",
      "4763c104e158442e9e323cf8cadd1d88",
      "eb9c9938dfa54a1aaad13eeac5606b5c",
      "c459bb5779204526803d263a9f402fe5",
      "bcb899f2b68e4bd488d979bf83437094",
      "bace0672b1a74022a6f819f4cf6cf157",
      "4bf2f57f508f4b03a6558be7e398641f",
      "6a316721cf8b41b0a6a871eed42f9491",
      "94f20e89199942d2ab00834aaec94e8c",
      "d29af03bd3784ff89aae384f603eff46",
      "d1de62812e63481db399771d4039fd30",
      "74318a692c434a7ba589ca1b695c5357",
      "0943e6a6d3074e9b8016068259d60281",
      "7e73a77918d742a5badd226cb2e9f8ed",
      "70a531160c4f4a3b932ca93d54a8c695",
      "ecb9d4f998604064bd12758d37720a20",
      "bc64c631460c4c71805a2491d72e9f46",
      "fb6f3ed34d5c4f0286d8204f26cd0d54",
      "0b21b95a45e7427db9f0a8274fe49a5c",
      "5707f4c30cd8470fa6f49194a14a4815",
      "386f4a2b8d6445558da0201ff8e544e0",
      "78611db0ab3f4ac18000a2c09d86f3d4",
      "bce0157af37b47a981f1cdf590b29b59",
      "b69d5203304a4d009a372bc9788ab070",
      "de34cb16c93b485d94672f202bd8dd6a",
      "54dd5ab3a72247eb98e82e581033da45",
      "7140060eaab5431c9a4b8d6427307ed4",
      "3d9ec1992aa2439c9771197ded9598ab",
      "0d850ae98ad44528b15a32deb63a2e1c",
      "1d688b8825c94c83a383d7778735c12b",
      "7aa01ae570174b43a73d509ebb5edf12",
      "8dcbcd7029384ceeab6ee3e9ae57c75b",
      "58ca33d07147401d8c459fed76499527",
      "4f352a236d9642e0b07b786778ee8375",
      "ce7964a5dbb4417fb24ef134661fe14a",
      "898ddaf816c7481e9c8fffba30a0c02b"
     ]
    },
    "id": "ZvqdkctBPgbF",
    "outputId": "db478348-dace-40bc-9d1c-9b50612a4466"
   },
   "outputs": [
    {
     "data": {
      "application/vnd.jupyter.widget-view+json": {
       "model_id": "cc977304fcfc4ce1b85ae5ef6827fbfe",
       "version_major": 2,
       "version_minor": 0
      },
      "text/plain": [
       "config.json: 0.00B [00:00, ?B/s]"
      ]
     },
     "metadata": {},
     "output_type": "display_data"
    },
    {
     "data": {
      "application/vnd.jupyter.widget-view+json": {
       "model_id": "01590e751bda4e8db69116d9693f1001",
       "version_major": 2,
       "version_minor": 0
      },
      "text/plain": [
       "model.safetensors:   0%|          | 0.00/1.63G [00:00<?, ?B/s]"
      ]
     },
     "metadata": {},
     "output_type": "display_data"
    },
    {
     "data": {
      "application/vnd.jupyter.widget-view+json": {
       "model_id": "38edf5f96e7f4643946e49624162d1b6",
       "version_major": 2,
       "version_minor": 0
      },
      "text/plain": [
       "generation_config.json:   0%|          | 0.00/363 [00:00<?, ?B/s]"
      ]
     },
     "metadata": {},
     "output_type": "display_data"
    },
    {
     "data": {
      "application/vnd.jupyter.widget-view+json": {
       "model_id": "c459bb5779204526803d263a9f402fe5",
       "version_major": 2,
       "version_minor": 0
      },
      "text/plain": [
       "vocab.json: 0.00B [00:00, ?B/s]"
      ]
     },
     "metadata": {},
     "output_type": "display_data"
    },
    {
     "data": {
      "application/vnd.jupyter.widget-view+json": {
       "model_id": "70a531160c4f4a3b932ca93d54a8c695",
       "version_major": 2,
       "version_minor": 0
      },
      "text/plain": [
       "merges.txt: 0.00B [00:00, ?B/s]"
      ]
     },
     "metadata": {},
     "output_type": "display_data"
    },
    {
     "data": {
      "application/vnd.jupyter.widget-view+json": {
       "model_id": "54dd5ab3a72247eb98e82e581033da45",
       "version_major": 2,
       "version_minor": 0
      },
      "text/plain": [
       "tokenizer.json: 0.00B [00:00, ?B/s]"
      ]
     },
     "metadata": {},
     "output_type": "display_data"
    },
    {
     "name": "stderr",
     "output_type": "stream",
     "text": [
      "Device set to use cuda:0\n"
     ]
    }
   ],
   "source": [
    "model = \"facebook/bart-large-cnn\"\n",
    "summarizer = pipeline(\"summarization\", model=model)"
   ]
  },
  {
   "cell_type": "code",
   "execution_count": 13,
   "metadata": {
    "colab": {
     "base_uri": "https://localhost:8080/"
    },
    "id": "xJDqj5o2RPLD",
    "outputId": "7d6a3372-4a1b-4b3b-d010-2efbe7295a5f"
   },
   "outputs": [
    {
     "name": "stdout",
     "output_type": "stream",
     "text": [
      "[{'summary_text': 'BART is a transformer encoder-encoder (seq2seq) model with a bidirectional (BERT-like) encoder. BART is pre-trained by corrupting text with an arbitrary noising function, and learning a model to reconstruct the original text.'}]\n"
     ]
    }
   ],
   "source": [
    "print(summarizer(Article, max_length=130, min_length=30, do_sample=False))"
   ]
  },
  {
   "cell_type": "code",
   "execution_count": 14,
   "metadata": {
    "colab": {
     "base_uri": "https://localhost:8080/"
    },
    "id": "3jLSMvMGRzkQ",
    "outputId": "abaa8db1-4bc6-4b69-e867-8a3035a42910"
   },
   "outputs": [
    {
     "name": "stdout",
     "output_type": "stream",
     "text": [
      "BART is a transformer encoder-encoder (seq2seq) model with a bidirectional (BERT-like) encoder. BART is pre-trained by corrupting text with an arbitrary noising function, and learning a model to reconstruct the original text.\n"
     ]
    }
   ],
   "source": [
    "summary = summarizer(Article, max_length=130, min_length=30, do_sample=False)[0]['summary_text']\n",
    "print(summary)"
   ]
  },
  {
   "cell_type": "code",
   "execution_count": 15,
   "metadata": {
    "colab": {
     "base_uri": "https://localhost:8080/",
     "height": 345,
     "referenced_widgets": [
      "832793af35c94063a29656e6a271ed43",
      "8e8faa5ea4bf43cdb875c015569900b1",
      "2c922184cbb144a4ac0b2361f2037906",
      "b719ed3a10fa47099ff2bb3a7264961f",
      "2a0fe4a6ed064d84b5a559654c13b6fa",
      "4d82f9d020db4310a2dae3129a3573c7",
      "42d7890205e24c518356cd6d1f06ffa9",
      "364f7f01ac664bbf95235508c1a1f5ec",
      "b027c1cb2fb6459596a4a0a483685306",
      "ed4e2a4d447747e9bedcdbf41400dc2a",
      "c6ab4a11e6eb4623910adf41916b48c3",
      "b637e702d9fb4bd38de880ce0b7051d6",
      "11335217069e4d9abc4420d85124bccd",
      "2293ef1080c346b3ab94e28326bb72d4",
      "ab2f61c8c5374596a79c27cbb06b332e",
      "9a4e7b6e30b14164899e336e97333b0c",
      "62e55a30ee5f4bea96e2f742d9b3d743",
      "da2079eee3494dabb5e08bb6de45d2fb",
      "39b6c5808029425caad9d690dbc38a14",
      "3c062dad14a049878c0e70329b1120a5",
      "32e2493a280d421a8de2626b56ed2a15",
      "3bbc6157d3cf4827b1a065025bec2ff2",
      "30d637019a6646d2b3359ee6f19b0106",
      "b53fac903d3446608978e758d7f329c2",
      "afca87b818ec426eb936286b4faefbfd",
      "3280bcf3936c42b888df89e25adcb632",
      "2cddc154dc9e4a7cb674c4650f95fd40",
      "ac91ad11e4de4b2783bf2aa6385c8260",
      "e5a5e470b6854fb0860b9a5b1c01dc73",
      "f91f623656644dcf994833e82f4a0783",
      "187f210deb9e423d8ac2f70a4f283f5a",
      "3ca635118a3d4fdda70163fc8cdee97f",
      "cd2e475a65e340669b6562ab38d9203d",
      "2776b9027e964c82a2bf96698fef233e",
      "65df1fcba5b74503af0f07bceaec29ee",
      "ab42b2dda3064a16bf498ba38dd3141f",
      "fcdb8cd050824a459e5e41fc99f1f5d0",
      "5632e1b8fce141cdb43bd1a97c80f38e",
      "8f5a74947aa641c4afd5503d22410ae7",
      "54841cc81f814a748a75128c719cb437",
      "e95018bbf47d482dbe0d9d3f09bd43cd",
      "9f591243efd94dafa92d24486d48dd5a",
      "3114b395aae04e3082ad622fe0ab61b0",
      "786172dc213b4395aa75bb6891c38732",
      "5229801463c9462ea94adc41e4a4b198",
      "7dd6ae023a124460b9522187df270471",
      "b6ab45cd394e44d9b634bb82a9c4a30a",
      "83b4151eb97b409dad2fad86a5ee37ca",
      "263954e57f8d4f49bb2ff5dba97345fb",
      "adaf493fd59c4263b577eb83796e1775",
      "9b4fffe0d20d43e5a9dbe28e6f44353c",
      "f5d323fd81dc4d2f9ce171a08d405684",
      "ce5ecb28381546fca787e8082ff6947b",
      "def1564ce0df4e89bcdc8832f44eeb84",
      "c9cc2f320f874cb7b7a8d918cdf2c2d4",
      "7ac6934a7bbd4fc38a397a78e83bfc30",
      "3db7e8ec37ab4d448d54fb801029ff67",
      "c8e4bdc28ec34b05b071061086be4cc0",
      "3bdedc08e90f47de80a8a8de69002e1f",
      "089738096a534d72b127d9aeb4cc1a8d",
      "386e127d581a456a86ff23a246dcf6bc",
      "efe4d0f4c5784dfc80bb6040d20d58ed",
      "2aca3a68e3244f7bb8be882b0b067825",
      "5e2cb70401894e52829edc9213531c4f",
      "381a15d74e144af5bcfd03d0643d27bb",
      "e0efa322a5484903b266b471c180840a",
      "01c189e54e9c4378ae3f19611320c68f",
      "85a38884be304d72a5cba0aa752644d0",
      "fd54cd32b5314b2998fa75ed583b5700",
      "f7593791be5349dc8bf7b8d342a40a36",
      "022c355548194cd898c1977b8fb2d42b",
      "08dd655393b64d7fa9793ccc25fe5484",
      "8b2f968b677d42649dd57a4079a0bdc9",
      "cb59818c35fe47fd9082830a23ed65c5",
      "3e622e9c8d3147f1b1aa4acc6fe1c7a2",
      "338f46d383b348aabfe9af1a684e0fd1",
      "044824ec9921416aa4925d7f8b002aea",
      "bf857521b5ab44c4bae9a575a25720a9",
      "32e0dc1b982345e6aad01e82eefeacb1",
      "41762812cb3d48cd8cf17836666c1f0e",
      "cb5f7d34e5844601a94eadef10b5864a",
      "c77067e2cb83463086f14876475281e6",
      "89c3427f1a3d4f9cb5ec6e50b8926209",
      "616c020244ac4fe59a50d981788155da",
      "65d79a23bdcb4fefb59601e703852c4c",
      "4ecb043d3d044429bb4e843746ad3b00",
      "c6318e3da7054b74b5a4aa706843aae3",
      "d53ae51b7ce64c4daa896e341a2b862c"
     ]
    },
    "id": "44pqyhelSVgr",
    "outputId": "a151f5d2-0286-45aa-b436-5265ef2a7365"
   },
   "outputs": [
    {
     "data": {
      "application/vnd.jupyter.widget-view+json": {
       "model_id": "832793af35c94063a29656e6a271ed43",
       "version_major": 2,
       "version_minor": 0
      },
      "text/plain": [
       "config.json: 0.00B [00:00, ?B/s]"
      ]
     },
     "metadata": {},
     "output_type": "display_data"
    },
    {
     "data": {
      "application/vnd.jupyter.widget-view+json": {
       "model_id": "b637e702d9fb4bd38de880ce0b7051d6",
       "version_major": 2,
       "version_minor": 0
      },
      "text/plain": [
       "pytorch_model.bin:   0%|          | 0.00/2.28G [00:00<?, ?B/s]"
      ]
     },
     "metadata": {},
     "output_type": "display_data"
    },
    {
     "data": {
      "application/vnd.jupyter.widget-view+json": {
       "model_id": "30d637019a6646d2b3359ee6f19b0106",
       "version_major": 2,
       "version_minor": 0
      },
      "text/plain": [
       "model.safetensors:   0%|          | 0.00/2.28G [00:00<?, ?B/s]"
      ]
     },
     "metadata": {},
     "output_type": "display_data"
    },
    {
     "name": "stderr",
     "output_type": "stream",
     "text": [
      "Some weights of PegasusForConditionalGeneration were not initialized from the model checkpoint at google/pegasus-xsum and are newly initialized: ['model.decoder.embed_positions.weight', 'model.encoder.embed_positions.weight']\n",
      "You should probably TRAIN this model on a down-stream task to be able to use it for predictions and inference.\n"
     ]
    },
    {
     "data": {
      "application/vnd.jupyter.widget-view+json": {
       "model_id": "2776b9027e964c82a2bf96698fef233e",
       "version_major": 2,
       "version_minor": 0
      },
      "text/plain": [
       "generation_config.json:   0%|          | 0.00/259 [00:00<?, ?B/s]"
      ]
     },
     "metadata": {},
     "output_type": "display_data"
    },
    {
     "data": {
      "application/vnd.jupyter.widget-view+json": {
       "model_id": "5229801463c9462ea94adc41e4a4b198",
       "version_major": 2,
       "version_minor": 0
      },
      "text/plain": [
       "tokenizer_config.json:   0%|          | 0.00/87.0 [00:00<?, ?B/s]"
      ]
     },
     "metadata": {},
     "output_type": "display_data"
    },
    {
     "data": {
      "application/vnd.jupyter.widget-view+json": {
       "model_id": "7ac6934a7bbd4fc38a397a78e83bfc30",
       "version_major": 2,
       "version_minor": 0
      },
      "text/plain": [
       "spiece.model:   0%|          | 0.00/1.91M [00:00<?, ?B/s]"
      ]
     },
     "metadata": {},
     "output_type": "display_data"
    },
    {
     "data": {
      "application/vnd.jupyter.widget-view+json": {
       "model_id": "01c189e54e9c4378ae3f19611320c68f",
       "version_major": 2,
       "version_minor": 0
      },
      "text/plain": [
       "tokenizer.json: 0.00B [00:00, ?B/s]"
      ]
     },
     "metadata": {},
     "output_type": "display_data"
    },
    {
     "data": {
      "application/vnd.jupyter.widget-view+json": {
       "model_id": "bf857521b5ab44c4bae9a575a25720a9",
       "version_major": 2,
       "version_minor": 0
      },
      "text/plain": [
       "special_tokens_map.json:   0%|          | 0.00/65.0 [00:00<?, ?B/s]"
      ]
     },
     "metadata": {},
     "output_type": "display_data"
    },
    {
     "name": "stderr",
     "output_type": "stream",
     "text": [
      "Device set to use cuda:0\n"
     ]
    }
   ],
   "source": [
    "model_2 = \"google/pegasus-xsum\"\n",
    "summarizer_2 = pipeline(\"summarization\", model=model_2)"
   ]
  },
  {
   "cell_type": "code",
   "execution_count": 16,
   "metadata": {
    "colab": {
     "base_uri": "https://localhost:8080/",
     "height": 72
    },
    "id": "SHtAOPqMSyx9",
    "outputId": "bcee3c9f-ac10-4680-9391-16fd26656d9b"
   },
   "outputs": [
    {
     "name": "stderr",
     "output_type": "stream",
     "text": [
      "Passing a tuple of `past_key_values` is deprecated and will be removed in Transformers v4.58.0. You should pass an instance of `EncoderDecoderCache` instead, e.g. `past_key_values=EncoderDecoderCache.from_legacy_cache(past_key_values)`.\n"
     ]
    },
    {
     "name": "stdout",
     "output_type": "stream",
     "text": [
      "[{'summary_text': 'The world’s largest software company has teamed up with a leading artificial intelligence (AI) firm, OpenAI, to create the world’s most'}]\n"
     ]
    }
   ],
   "source": [
    "print(summarizer_2(text, max_length=32, min_length=30, do_sample=False))"
   ]
  },
  {
   "cell_type": "code",
   "execution_count": 17,
   "metadata": {
    "colab": {
     "base_uri": "https://localhost:8080/",
     "height": 34
    },
    "id": "WBFmOvW6S7Yi",
    "outputId": "1b534d3d-7f36-4a7c-d8e3-39bd992bab2b"
   },
   "outputs": [
    {
     "name": "stdout",
     "output_type": "stream",
     "text": [
      "The world’s largest software company has teamed up with a leading artificial intelligence (AI) firm, OpenAI, to create the world’s most\n"
     ]
    }
   ],
   "source": [
    "summary_2 = summarizer_2(text, max_length=32, min_length=30, do_sample=False)[0]['summary_text']\n",
    "print(summary_2)"
   ]
  },
  {
   "cell_type": "markdown",
   "metadata": {
    "id": "7CXrvdOjUEfQ"
   },
   "source": [
    "# Sentiment Analysis"
   ]
  },
  {
   "cell_type": "code",
   "execution_count": 18,
   "metadata": {
    "colab": {
     "base_uri": "https://localhost:8080/",
     "height": 258,
     "referenced_widgets": [
      "c7e5009b3004499da80b71d21bf256e7",
      "22711e30920243758e15a30de418dbc1",
      "f0afa6e64ebc46e2ba4dc9310e399c29",
      "fe7ed91ad8864ef0bd5f6b42c5901662",
      "d1d4cd2da02541d69e27aef7f91852c0",
      "38eeee8a8d1b46d4ad9f0ee85e7411ff",
      "cb4e6aa1c78d40d78242b6c485f40f08",
      "edb2daac25844a6ca7651b613d0a77bc",
      "8a19e6a33bb44d429ace983a0b6cbf70",
      "6e3e791708b34f2588ae69afaf1c32b0",
      "f50f8d1f5aff42bfb3393cfab606812d",
      "d141925be87a4459a44a11902bdd1b61",
      "011f493e044b485488be1bb25eea6dba",
      "1377505b39bd45f3a4ce9692315515b5",
      "c8cbe372fff44273a245921b369886be",
      "88c72d2bb94d4672bd8b12f8371a6971",
      "259ee8876c7c47df9e34a1961c769687",
      "a0bd5ce03fd74889a17b79ff54d5a382",
      "b1087c687666451695c7c2f2690f9080",
      "7d71b61a3b02477aaa5262611e9611be",
      "1c4e6e3a35d2450488b074c30fc5eef5",
      "9ba90f7a08d04e0ea3cc93ef4d2033aa",
      "edd69d0253d44e559a357f7e132b98d9",
      "e1d9eae2b1b448059d8080cd64f28d3a",
      "76fd42d52c0d48bf879b37f961b9dcbd",
      "0038acaa9c21494b8b4072423fd5f95f",
      "e797825319dc453ca1ea0473a29e8c53",
      "acdae222b517421f8e8a6df62df5ea85",
      "7b34c057e28a43f7a44d8d54a0223f46",
      "734bb853bd6641bdaa29a41b638d6a98",
      "3f367c8a18004a9e9583cebf175306f8",
      "47b9b8a9e5634bc6ae96e3ea6a2ff3e3",
      "40f9ac4c80344ee0a9d118c120b00759",
      "a63c0fed743a4cbda026e55faf4ac9c8",
      "f7deea9c24f747dbad417cd4c8d9272b",
      "0c6dadfd57f548a8ab8c7036acee0187",
      "b008ed9a14ba4720a207ce86083e615b",
      "a8326fea73c549f7a45c6a44b255cb79",
      "4b3a18032b1c415e8aa35adcb011abfc",
      "ef18cebb5b36424c823b3e778263d744",
      "1fb5f0226a204943bff7b0a5d6b9a0ea",
      "c15f74049a2b43038a35b8cf1d20420a",
      "a2ec24a767f6400d964654c1df2db3b6",
      "15ebb498ef4b43f5b4b099b8ad9da000",
      "b40b84606add4700b704866de00455c3",
      "d7769d4473bb447c834fa6560bc05373",
      "3aa5bb3ac27a4214a1e3868e0408e3e1",
      "a6d46d2cde29436d9c818d491723adac",
      "fae58b57d3c94bc2a7cac78ea654c4df",
      "956859e90c914368a28368416d64287e",
      "45bd7e6aded3487c89c91f04da3d1252",
      "03205a529a0f4b5f80151018e3c6c82c",
      "74f5f93988d74754997901a590c12851",
      "0675d4ef547244149eb4a9215cf1e4ed",
      "8547c346ee9c455b82e9746df7724135",
      "a0c22df9415246848a5bcb52836a9124",
      "058cfea01b0b4be09d336367963ecf1f",
      "be0927d352bf45eba158d52b9f129cf0",
      "a4ee768e8b6e4f3681761910ed3aca15",
      "b5e81991b2774969bb0c6112043b6261",
      "a5261226b3b242ae9e5b009f1c6dd1d2",
      "2e717ac89a934111995776dad63723fe",
      "4aeaa362f3da4aa2a8d99a08ae93423f",
      "9d97c32480c54a52ad59ef6b124dbaf3",
      "9cad8adf755f4ab7981b36a5d3e61acf",
      "8180254259b74aaa89772312d442fd73",
      "59c9fa19d3bd4aaa80f6dcc8366c871c",
      "bac9f6fe5ed34420a5ec63911d7f03aa",
      "e728d60a47f745ff980699e6f435e0dc",
      "0f3ef35806c24e6890b7b1ea9fbac884",
      "f0ae7495f0894a6eb9bda7e61b691155",
      "5a2aff136b354765af6fd4d619bed29b",
      "4b939128552d4ee9978a10b2602914e3",
      "b23a79f2c4934a8ba1ec17ccaf673ed9",
      "a541fdc4167649249d223f57541b6851",
      "df02d89c4b8f4df08d08b271be4d193e",
      "6cf94e46067a470ca41cce9933c6dadd"
     ]
    },
    "id": "RybtL9ogUIwl",
    "outputId": "9f2124a3-7f4c-4c85-f0ed-49b0931b7e85"
   },
   "outputs": [
    {
     "data": {
      "application/vnd.jupyter.widget-view+json": {
       "model_id": "c7e5009b3004499da80b71d21bf256e7",
       "version_major": 2,
       "version_minor": 0
      },
      "text/plain": [
       "config.json:   0%|          | 0.00/687 [00:00<?, ?B/s]"
      ]
     },
     "metadata": {},
     "output_type": "display_data"
    },
    {
     "data": {
      "application/vnd.jupyter.widget-view+json": {
       "model_id": "d141925be87a4459a44a11902bdd1b61",
       "version_major": 2,
       "version_minor": 0
      },
      "text/plain": [
       "pytorch_model.bin:   0%|          | 0.00/1.42G [00:00<?, ?B/s]"
      ]
     },
     "metadata": {},
     "output_type": "display_data"
    },
    {
     "data": {
      "application/vnd.jupyter.widget-view+json": {
       "model_id": "edd69d0253d44e559a357f7e132b98d9",
       "version_major": 2,
       "version_minor": 0
      },
      "text/plain": [
       "model.safetensors:   0%|          | 0.00/1.42G [00:00<?, ?B/s]"
      ]
     },
     "metadata": {},
     "output_type": "display_data"
    },
    {
     "data": {
      "application/vnd.jupyter.widget-view+json": {
       "model_id": "a63c0fed743a4cbda026e55faf4ac9c8",
       "version_major": 2,
       "version_minor": 0
      },
      "text/plain": [
       "tokenizer_config.json:   0%|          | 0.00/256 [00:00<?, ?B/s]"
      ]
     },
     "metadata": {},
     "output_type": "display_data"
    },
    {
     "data": {
      "application/vnd.jupyter.widget-view+json": {
       "model_id": "b40b84606add4700b704866de00455c3",
       "version_major": 2,
       "version_minor": 0
      },
      "text/plain": [
       "vocab.json: 0.00B [00:00, ?B/s]"
      ]
     },
     "metadata": {},
     "output_type": "display_data"
    },
    {
     "data": {
      "application/vnd.jupyter.widget-view+json": {
       "model_id": "a0c22df9415246848a5bcb52836a9124",
       "version_major": 2,
       "version_minor": 0
      },
      "text/plain": [
       "merges.txt: 0.00B [00:00, ?B/s]"
      ]
     },
     "metadata": {},
     "output_type": "display_data"
    },
    {
     "data": {
      "application/vnd.jupyter.widget-view+json": {
       "model_id": "59c9fa19d3bd4aaa80f6dcc8366c871c",
       "version_major": 2,
       "version_minor": 0
      },
      "text/plain": [
       "special_tokens_map.json:   0%|          | 0.00/150 [00:00<?, ?B/s]"
      ]
     },
     "metadata": {},
     "output_type": "display_data"
    },
    {
     "name": "stderr",
     "output_type": "stream",
     "text": [
      "Device set to use cuda:0\n"
     ]
    }
   ],
   "source": [
    "sentiment_analysis = pipeline(\"sentiment-analysis\",model=\"siebert/sentiment-roberta-large-english\")"
   ]
  },
  {
   "cell_type": "code",
   "execution_count": 19,
   "metadata": {
    "colab": {
     "base_uri": "https://localhost:8080/"
    },
    "id": "vbcF2ELxVJss",
    "outputId": "49be99b1-2c46-4269-8e3a-f752f4cff05b"
   },
   "outputs": [
    {
     "name": "stdout",
     "output_type": "stream",
     "text": [
      "[{'label': 'POSITIVE', 'score': 0.9984573125839233}]\n"
     ]
    }
   ],
   "source": [
    "print(sentiment_analysis(text))"
   ]
  },
  {
   "cell_type": "code",
   "execution_count": 20,
   "metadata": {
    "colab": {
     "base_uri": "https://localhost:8080/"
    },
    "id": "eGdk4mjjVTqn",
    "outputId": "2f9c1a2c-e7cc-42f7-cb4f-e9033fbd6127"
   },
   "outputs": [
    {
     "name": "stdout",
     "output_type": "stream",
     "text": [
      "[{'label': 'POSITIVE', 'score': 0.9985944628715515}]\n"
     ]
    }
   ],
   "source": [
    "print(sentiment_analysis(summary_2))"
   ]
  },
  {
   "cell_type": "code",
   "execution_count": 21,
   "metadata": {
    "id": "4798614f"
   },
   "outputs": [],
   "source": [
    "import warnings\n",
    "warnings.filterwarnings('ignore')"
   ]
  }
 ],
 "metadata": {
  "accelerator": "GPU",
  "colab": {
   "gpuType": "T4",
   "provenance": []
  },
  "kernelspec": {
   "display_name": "Python 3",
   "name": "python3"
  },
  "language_info": {
   "name": "python"
  }
 },
 "nbformat": 4,
 "nbformat_minor": 0
}
