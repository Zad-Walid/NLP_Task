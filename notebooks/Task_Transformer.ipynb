{
 "cells": [
  {
   "cell_type": "code",
   "execution_count": 1,
   "metadata": {
    "id": "dW2Gdbp5Lhew"
   },
   "outputs": [],
   "source": [
    "from transformers import AutoTokenizer, AutoModelForTokenClassification\n",
    "from transformers import pipeline"
   ]
  },
  {
   "cell_type": "markdown",
   "metadata": {
    "id": "_yJeT3UjPcBb"
   },
   "source": [
    "# Name Entity Recognition (ner)"
   ]
  },
  {
   "cell_type": "code",
   "execution_count": 26,
   "metadata": {
    "id": "Q1mgZysoLpMU"
   },
   "outputs": [],
   "source": [
    "text = \"\"\"Microsoft Corporation announced a $10 billion investment in OpenAI on Monday.\n",
    "CEO Satya Nadella stated that this partnership will accelerate AI innovation worldwide.\n",
    "The announcement was made at the company’s headquarters in Redmond, Washington.\n",
    "\"\"\""
   ]
  },
  {
   "cell_type": "code",
   "execution_count": 3,
   "metadata": {
    "colab": {
     "base_uri": "https://localhost:8080/",
     "height": 385,
     "referenced_widgets": [
      "431ca585a71e496982bc54ef478c7bb0",
      "15400583d20b42a7bdea2754d5669be3",
      "daf876cfbebf438c993d7090b47edd99",
      "d5a05750b15f41b9bc13afde3a45ea44",
      "4ccaea2276f94e7c9b7d5f715e1184c7",
      "b4a4033901264470891a9519ea008f09",
      "8b239923fcdf46bd912f8598413b5ffb",
      "f5bf6afb8eed4dfc9a5565a19e08f1b8",
      "3f7e2428171e4128a075ef0ef844bc46",
      "abd8b428eada421690526c2675bdb4f8",
      "41be8afaec8c49bfae04b63470efaf11",
      "96123cd6774642128a116605df59193d",
      "3627318d75cb4458b1ae81b1178486e0",
      "ac90f40a1dfd4d37a76996d8e26c3197",
      "f99b1e2730e64854ab35df6a887de292",
      "76863ed53bac4fed930c45686c0e9d12",
      "a0c0ca4565b249bda189aeeae1c1c78f",
      "45abf723af0a477a9531a027f97b1788",
      "380836e3187f422ca77cc5d66e282dbb",
      "b96b16f5c7e7453497dbed50e3ebeab2",
      "542cbea42c1049d0a2cddbfa593376c2",
      "0d58b57f4ef7407eadf82e7ab805bcd7",
      "602bb9ba02744869b3ee26d90f097406",
      "43f12d2482db4b6ea5f4376c61eeac52",
      "77166587878b4ecda3be22e09768d94f",
      "d31703fe6b5e463c96b1984c250980cf",
      "62396dce945c400cac1217ee55a4eaf2",
      "50f938938613436c979679ff8df5d8d0",
      "b5986a755b954ffea8d3f694ad8ace54",
      "b4374083a11e462a9225065de22a66df",
      "e6aba20b386048abbded4d8b33c66897",
      "492ae4f077d9410fb0e32c8676b40a01",
      "afe91e294b614453b821e7f8b022906b",
      "273110d40377434695796fd117bff73e",
      "4d4b59e0450b418d91d11c4e23b786b2",
      "29307621c8b74cc3aa9bd5e3b562a00f",
      "bdfedf7ab5424b02a06530fc9fe67adc",
      "6d661ff847d5482fb87abc5e29a3f21d",
      "b9d2084a217940c1bd6b1772dfec2fc5",
      "f6bc5a4b9ce641699503d04317214d70",
      "aad4baff20254a79b0d9d2f05b256119",
      "959a688d200e4cacba5e11dcc2568fae",
      "7b8d63490b9f4beeb34a05c55224f7fc",
      "9886a24337dc405887333cbca30f2147",
      "22930a17b7004b5cbd63247fc2cde38e",
      "ed832843f21f449d93bdc2a4bf05b6df",
      "b055d206b5094ca2ac4112eeae98668c",
      "02435543badc4f9abfa1a537690149c9",
      "699873c1df8b4ae49e811f6374551be5",
      "d85c3d2af8ec43738874268b1d263301",
      "d2aef6fa371d48b5a81f62bd29ef8693",
      "e3c45490c72147fc93506f708445ad56",
      "66580c2873bb483cba432de87deb1e8f",
      "c091750940d8454dad7fdb4cc645c3b6",
      "627da48fc40e40199f6f3fb8dacd0c3d",
      "a317c73741bd41d2b7427bf309094ea3",
      "8c399879e89f426d974dfd86bbd4aaee",
      "be4e5fdd320148aaaa6f29dbf8234057",
      "114c31b802e9485c834d9026a04d0268",
      "faaca80989024eb28f495491a6d93484",
      "f0753fae3ec14bfd855bbf4c72d0c224",
      "bf3218f026c7486c891aaa6b3ef468b1",
      "2ecd7abc50514e69b1423f1e074f862f",
      "b47b83bfb0bc4348a2625d8ba928914a",
      "41a06927c33c443e95ad01bfa8dda36b",
      "1e3df9d57212481e818cef4a61383c42"
     ]
    },
    "id": "A__hjF94L42W",
    "outputId": "87a0b5d1-6399-4948-9c8e-9f7c43fe9d47"
   },
   "outputs": [
    {
     "name": "stderr",
     "output_type": "stream",
     "text": [
      "/usr/local/lib/python3.11/dist-packages/huggingface_hub/utils/_auth.py:94: UserWarning: \n",
      "The secret `HF_TOKEN` does not exist in your Colab secrets.\n",
      "To authenticate with the Hugging Face Hub, create a token in your settings tab (https://huggingface.co/settings/tokens), set it as secret in your Google Colab and restart your session.\n",
      "You will be able to reuse this secret in all of your notebooks.\n",
      "Please note that authentication is recommended but still optional to access public models or datasets.\n",
      "  warnings.warn(\n"
     ]
    },
    {
     "data": {
      "application/vnd.jupyter.widget-view+json": {
       "model_id": "431ca585a71e496982bc54ef478c7bb0",
       "version_major": 2,
       "version_minor": 0
      },
      "text/plain": [
       "tokenizer_config.json:   0%|          | 0.00/59.0 [00:00<?, ?B/s]"
      ]
     },
     "metadata": {},
     "output_type": "display_data"
    },
    {
     "data": {
      "application/vnd.jupyter.widget-view+json": {
       "model_id": "96123cd6774642128a116605df59193d",
       "version_major": 2,
       "version_minor": 0
      },
      "text/plain": [
       "config.json:   0%|          | 0.00/829 [00:00<?, ?B/s]"
      ]
     },
     "metadata": {},
     "output_type": "display_data"
    },
    {
     "data": {
      "application/vnd.jupyter.widget-view+json": {
       "model_id": "602bb9ba02744869b3ee26d90f097406",
       "version_major": 2,
       "version_minor": 0
      },
      "text/plain": [
       "vocab.txt: 0.00B [00:00, ?B/s]"
      ]
     },
     "metadata": {},
     "output_type": "display_data"
    },
    {
     "data": {
      "application/vnd.jupyter.widget-view+json": {
       "model_id": "273110d40377434695796fd117bff73e",
       "version_major": 2,
       "version_minor": 0
      },
      "text/plain": [
       "added_tokens.json:   0%|          | 0.00/2.00 [00:00<?, ?B/s]"
      ]
     },
     "metadata": {},
     "output_type": "display_data"
    },
    {
     "data": {
      "application/vnd.jupyter.widget-view+json": {
       "model_id": "22930a17b7004b5cbd63247fc2cde38e",
       "version_major": 2,
       "version_minor": 0
      },
      "text/plain": [
       "special_tokens_map.json:   0%|          | 0.00/112 [00:00<?, ?B/s]"
      ]
     },
     "metadata": {},
     "output_type": "display_data"
    },
    {
     "data": {
      "application/vnd.jupyter.widget-view+json": {
       "model_id": "a317c73741bd41d2b7427bf309094ea3",
       "version_major": 2,
       "version_minor": 0
      },
      "text/plain": [
       "model.safetensors:   0%|          | 0.00/433M [00:00<?, ?B/s]"
      ]
     },
     "metadata": {},
     "output_type": "display_data"
    },
    {
     "name": "stderr",
     "output_type": "stream",
     "text": [
      "Some weights of the model checkpoint at dslim/bert-base-NER were not used when initializing BertForTokenClassification: ['bert.pooler.dense.bias', 'bert.pooler.dense.weight']\n",
      "- This IS expected if you are initializing BertForTokenClassification from the checkpoint of a model trained on another task or with another architecture (e.g. initializing a BertForSequenceClassification model from a BertForPreTraining model).\n",
      "- This IS NOT expected if you are initializing BertForTokenClassification from the checkpoint of a model that you expect to be exactly identical (initializing a BertForSequenceClassification model from a BertForSequenceClassification model).\n"
     ]
    }
   ],
   "source": [
    "tokenizer = AutoTokenizer.from_pretrained(\"dslim/bert-base-NER\")\n",
    "model = AutoModelForTokenClassification.from_pretrained(\"dslim/bert-base-NER\")"
   ]
  },
  {
   "cell_type": "code",
   "execution_count": 27,
   "metadata": {
    "colab": {
     "base_uri": "https://localhost:8080/"
    },
    "id": "8HsknL-ZL64P",
    "outputId": "38ac2aca-864c-4880-dd7b-57fd4c5183ae"
   },
   "outputs": [
    {
     "name": "stderr",
     "output_type": "stream",
     "text": [
      "Device set to use cuda:0\n",
      "/usr/local/lib/python3.11/dist-packages/transformers/pipelines/token_classification.py:170: UserWarning: `grouped_entities` is deprecated and will be removed in version v5.0.0, defaulted to `aggregation_strategy=\"AggregationStrategy.SIMPLE\"` instead.\n",
      "  warnings.warn(\n"
     ]
    }
   ],
   "source": [
    "nlp = pipeline(\"ner\", model=model, tokenizer=tokenizer , grouped_entities = True)"
   ]
  },
  {
   "cell_type": "code",
   "execution_count": 28,
   "metadata": {
    "colab": {
     "base_uri": "https://localhost:8080/"
    },
    "id": "1ZXsw0sJL9w1",
    "outputId": "b9f100c7-2172-40b6-979f-610f55aa9a73"
   },
   "outputs": [
    {
     "name": "stdout",
     "output_type": "stream",
     "text": [
      "[{'entity_group': 'ORG', 'score': np.float32(0.9992714), 'word': 'Microsoft Corporation', 'start': 0, 'end': 21}, {'entity_group': 'ORG', 'score': np.float32(0.90710396), 'word': 'OpenAI', 'start': 60, 'end': 66}, {'entity_group': 'PER', 'score': np.float32(0.9620562), 'word': 'Satya Nadella', 'start': 83, 'end': 96}, {'entity_group': 'MISC', 'score': np.float32(0.99135613), 'word': 'AI', 'start': 142, 'end': 144}, {'entity_group': 'LOC', 'score': np.float32(0.95440245), 'word': 'Redmond', 'start': 227, 'end': 234}, {'entity_group': 'LOC', 'score': np.float32(0.99818677), 'word': 'Washington', 'start': 236, 'end': 246}]\n"
     ]
    }
   ],
   "source": [
    "ner_results = nlp(text)\n",
    "print(ner_results)"
   ]
  },
  {
   "cell_type": "code",
   "execution_count": 29,
   "metadata": {
    "colab": {
     "base_uri": "https://localhost:8080/"
    },
    "id": "DVowIbpXMP1v",
    "outputId": "f7093721-e43d-4a7a-ddde-128f4173b521"
   },
   "outputs": [
    {
     "name": "stdout",
     "output_type": "stream",
     "text": [
      "Microsoft Corporation (ORG) - Score: 1.00\n",
      "OpenAI (ORG) - Score: 0.91\n",
      "Satya Nadella (PER) - Score: 0.96\n",
      "AI (MISC) - Score: 0.99\n",
      "Redmond (LOC) - Score: 0.95\n",
      "Washington (LOC) - Score: 1.00\n"
     ]
    }
   ],
   "source": [
    "for entity in ner_results:\n",
    "    print(f\"{entity['word']} ({entity['entity_group']}) - Score: {entity['score']:.2f}\")"
   ]
  },
  {
   "cell_type": "code",
   "execution_count": 36,
   "metadata": {
    "id": "VOEVfc3vNk01"
   },
   "outputs": [],
   "source": [
    "text_2 = \"\"\"Dr. Sarah Lee from Johns Hopkins Hospital presented a study on the use of Remdesivir for COVID-19 patients.\n",
    "The findings were published in The Lancet on March 3, 2023.\n",
    "\"\"\""
   ]
  },
  {
   "cell_type": "code",
   "execution_count": 37,
   "metadata": {
    "colab": {
     "base_uri": "https://localhost:8080/"
    },
    "id": "ZSOh14DyO4Y_",
    "outputId": "0885da94-c263-4865-dcbc-ae973e334443"
   },
   "outputs": [
    {
     "name": "stdout",
     "output_type": "stream",
     "text": [
      "[{'entity_group': 'PER', 'score': np.float32(0.99948883), 'word': 'Sarah Lee', 'start': 4, 'end': 13}, {'entity_group': 'LOC', 'score': np.float32(0.9991717), 'word': 'Johns Hopkins Hospital', 'start': 19, 'end': 41}, {'entity_group': 'MISC', 'score': np.float32(0.6587718), 'word': 'Re', 'start': 74, 'end': 76}, {'entity_group': 'ORG', 'score': np.float32(0.50892603), 'word': '##desiv', 'start': 77, 'end': 82}, {'entity_group': 'MISC', 'score': np.float32(0.6624677), 'word': 'CO', 'start': 89, 'end': 91}, {'entity_group': 'ORG', 'score': np.float32(0.99575424), 'word': 'The Lancet', 'start': 140, 'end': 150}]\n"
     ]
    }
   ],
   "source": [
    "ner_results_2 = nlp(text_2)\n",
    "print(ner_results_2)"
   ]
  },
  {
   "cell_type": "code",
   "execution_count": 38,
   "metadata": {
    "colab": {
     "base_uri": "https://localhost:8080/"
    },
    "id": "rJ2tWTYXO8EM",
    "outputId": "e6c498ae-ac17-42cd-cb3d-6a7363d644e2"
   },
   "outputs": [
    {
     "name": "stdout",
     "output_type": "stream",
     "text": [
      "Sarah Lee (PER) - Score: 1.00\n",
      "Johns Hopkins Hospital (LOC) - Score: 1.00\n",
      "Re (MISC) - Score: 0.66\n",
      "##desiv (ORG) - Score: 0.51\n",
      "CO (MISC) - Score: 0.66\n",
      "The Lancet (ORG) - Score: 1.00\n"
     ]
    }
   ],
   "source": [
    "for entity in ner_results_2:\n",
    "    print(f\"{entity['word']} ({entity['entity_group']}) - Score: {entity['score']:.2f}\")"
   ]
  },
  {
   "cell_type": "markdown",
   "metadata": {
    "id": "7C_P03jyPgv-"
   },
   "source": [
    "# Text Summerization"
   ]
  },
  {
   "cell_type": "code",
   "execution_count": 40,
   "metadata": {
    "id": "blPRtLj-RZm6"
   },
   "outputs": [],
   "source": [
    "Article = \"\"\"BART is a transformer encoder-encoder (seq2seq) model with a bidirectional (BERT-like) encoder and an autoregressive (GPT-like) decoder. BART is pre-trained by (1) corrupting text with an arbitrary noising function, and (2) learning a model to reconstruct the original text.\n",
    "BART is particularly effective when fine-tuned for text generation (e.g. summarization, translation) but also works well for comprehension tasks (e.g. text classification, question answering).\n",
    "This particular checkpoint has been fine-tuned on CNN Daily Mail, a large collection of text-summary pairs.\"\"\""
   ]
  },
  {
   "cell_type": "code",
   "execution_count": 39,
   "metadata": {
    "colab": {
     "base_uri": "https://localhost:8080/",
     "height": 226,
     "referenced_widgets": [
      "6a2410d7a89d4939952bf36a71e50839",
      "615616e4736b450b979c3601d6445522",
      "3b6a354a9bbd4f32a4b99fc6ff878b07",
      "5a642d55ca33457db2826ccec0d82f8e",
      "a753f1efb8cc4e9e84a2c5f686a9a7d8",
      "1e74873aa7a74af7ac40f3ab93b9be6b",
      "28080450f8bd4c33bf3241f76aa6518d",
      "75fe04b6abd24faf9b7e49a19bbbd37f",
      "33dfa0559d034df1aa8915153890e26b",
      "120586242d8d4c1e835f04a1d34a6f95",
      "bec805eff2fa425991613cdea69375da",
      "c8ca01c08a3b4166aeccd88a01cb868f",
      "f9b2be57853a4e23a3f5a3368db41b9a",
      "ff1b287f13ab4f76b00cd6875c905a6e",
      "130ab98205e4439f89a52425924f20c6",
      "aefb9a534c304dffbf6b76dd539456e2",
      "edb10ba263764639bbbc8d0b4b393adc",
      "2c4ba51c32dd4711a01855460dde08b4",
      "dc391b1fbda14f639fd940225dd30d77",
      "56c33c641f3742999520ab1e1717a557",
      "a4ce4044daa54e4ba61c2a581a451fc6",
      "e8b3203356d143ce9dcc93863c4b382a",
      "b5d9a373f1354ff5a6d5743aa0b2c913",
      "d71b4a9c7a10455db72c081295cdd162",
      "1dd23182402d4ba49af0fb04b38ed4c1",
      "b1d82a33cfa545e48d8423109fc5af35",
      "470e6b21f03744baa1b2b1ac7cb45216",
      "84104424d37f4b4b838059f792d9636b",
      "1f28060971744e9b8bbabba356e0189a",
      "07fd11f21ea84581a46e2c442bfb82f8",
      "eeead225a5b3421c94a1098bac275823",
      "5ac4afd9c01d40bf986869f25f8364f7",
      "0ac16eed5dff44b883752efcd41bd7bc",
      "b610491d5d6245baba89ed2ca05a3a84",
      "686165afa99045cf92669406c19489cd",
      "10ab16781ffd447b84298af34da6c7d5",
      "5e1b017aca0d4a29aadfe1cfcd9cc095",
      "86c6d5ea3e8d456ebd580263c174920e",
      "562680f425fa4677abd50997ce86f8eb",
      "73c979f791654987a61d32844dec0c6e",
      "205fae31d8a54cfcacf9c686ca611ac5",
      "9f92660436a247bfb554db79ec32d7fe",
      "d9123207654547e0bd9e1a8b313f1fa1",
      "3aa9659216374f9cb9c668c37c8a8608",
      "8213d05e7f784c52927ab20a19ec229f",
      "dd8dd323f57d4196ae66e193a3ddef33",
      "25412e98b8054871a02b101f707c7f46",
      "70c26e069c56436bb09581f333eb44f7",
      "3b13f882ed84481bab12e3601eff9289",
      "5028eab5b54c48e1a590bd84686d43ae",
      "9aa325de18ba4eee843603e7d930ba6e",
      "dbee2cc774984aeb927c1c557772faae",
      "3f4be4d45d784511ba35daf104dda0d4",
      "a4c50d45c4f345a18a91e2f1f8a68c4f",
      "eed320c980d6472d850adf26148412c6",
      "81a3c3a46c614a53af0a903a83e3068f",
      "eccd4e8792134c5ea734e2a06ec87bda",
      "4641877933224958ab665a2f5047dd2a",
      "8cf94188ae9d41d6ac8d9fb5305b1b6e",
      "a7aa52d4dc464d50951bbe2d3a47a0cc",
      "537542861092419b8990c313de68b06d",
      "02f8d67cd53646e99246277b8dbb5fc9",
      "276359ae19dd43059f0b7ea7fdd94f06",
      "ba9b098333f74f7986a36ae0a111b610",
      "f8677539b996402d9d47c95c8f0401ea",
      "67b1639a9c95485cb7e69abb85b2d1e3"
     ]
    },
    "id": "ZvqdkctBPgbF",
    "outputId": "ba32f7da-d06a-47a8-e548-7a86c9f1235f"
   },
   "outputs": [
    {
     "data": {
      "application/vnd.jupyter.widget-view+json": {
       "model_id": "6a2410d7a89d4939952bf36a71e50839",
       "version_major": 2,
       "version_minor": 0
      },
      "text/plain": [
       "config.json: 0.00B [00:00, ?B/s]"
      ]
     },
     "metadata": {},
     "output_type": "display_data"
    },
    {
     "data": {
      "application/vnd.jupyter.widget-view+json": {
       "model_id": "c8ca01c08a3b4166aeccd88a01cb868f",
       "version_major": 2,
       "version_minor": 0
      },
      "text/plain": [
       "model.safetensors:   0%|          | 0.00/1.63G [00:00<?, ?B/s]"
      ]
     },
     "metadata": {},
     "output_type": "display_data"
    },
    {
     "data": {
      "application/vnd.jupyter.widget-view+json": {
       "model_id": "b5d9a373f1354ff5a6d5743aa0b2c913",
       "version_major": 2,
       "version_minor": 0
      },
      "text/plain": [
       "generation_config.json:   0%|          | 0.00/363 [00:00<?, ?B/s]"
      ]
     },
     "metadata": {},
     "output_type": "display_data"
    },
    {
     "data": {
      "application/vnd.jupyter.widget-view+json": {
       "model_id": "b610491d5d6245baba89ed2ca05a3a84",
       "version_major": 2,
       "version_minor": 0
      },
      "text/plain": [
       "vocab.json: 0.00B [00:00, ?B/s]"
      ]
     },
     "metadata": {},
     "output_type": "display_data"
    },
    {
     "data": {
      "application/vnd.jupyter.widget-view+json": {
       "model_id": "8213d05e7f784c52927ab20a19ec229f",
       "version_major": 2,
       "version_minor": 0
      },
      "text/plain": [
       "merges.txt: 0.00B [00:00, ?B/s]"
      ]
     },
     "metadata": {},
     "output_type": "display_data"
    },
    {
     "data": {
      "application/vnd.jupyter.widget-view+json": {
       "model_id": "81a3c3a46c614a53af0a903a83e3068f",
       "version_major": 2,
       "version_minor": 0
      },
      "text/plain": [
       "tokenizer.json: 0.00B [00:00, ?B/s]"
      ]
     },
     "metadata": {},
     "output_type": "display_data"
    },
    {
     "name": "stderr",
     "output_type": "stream",
     "text": [
      "Device set to use cuda:0\n"
     ]
    }
   ],
   "source": [
    "model = \"facebook/bart-large-cnn\"\n",
    "summarizer = pipeline(\"summarization\", model=model)"
   ]
  },
  {
   "cell_type": "code",
   "execution_count": 41,
   "metadata": {
    "colab": {
     "base_uri": "https://localhost:8080/"
    },
    "id": "xJDqj5o2RPLD",
    "outputId": "d0dc1878-d3de-4c5b-ad12-2b385b3547a8"
   },
   "outputs": [
    {
     "name": "stdout",
     "output_type": "stream",
     "text": [
      "[{'summary_text': 'BART is a transformer encoder-encoder (seq2seq) model with a bidirectional (BERT-like) encoder. BART is pre-trained by corrupting text with an arbitrary noising function, and learning a model to reconstruct the original text.'}]\n"
     ]
    }
   ],
   "source": [
    "print(summarizer(Article, max_length=130, min_length=30, do_sample=False))"
   ]
  },
  {
   "cell_type": "code",
   "execution_count": 43,
   "metadata": {
    "colab": {
     "base_uri": "https://localhost:8080/"
    },
    "id": "3jLSMvMGRzkQ",
    "outputId": "d2edcd04-938c-4f87-98cf-5ca4fa57787d"
   },
   "outputs": [
    {
     "name": "stdout",
     "output_type": "stream",
     "text": [
      "BART is a transformer encoder-encoder (seq2seq) model with a bidirectional (BERT-like) encoder. BART is pre-trained by corrupting text with an arbitrary noising function, and learning a model to reconstruct the original text.\n"
     ]
    }
   ],
   "source": [
    "summary = summarizer(Article, max_length=130, min_length=30, do_sample=False)[0]['summary_text']\n",
    "print(summary)"
   ]
  },
  {
   "cell_type": "code",
   "execution_count": 51,
   "metadata": {
    "colab": {
     "base_uri": "https://localhost:8080/",
     "height": 345,
     "referenced_widgets": [
      "b1538ce705b24feb844d0cbbc383f383",
      "fd8575c6a6354fb985b5ff58d23a9c10",
      "117926c804604e3bada929e1d958335d",
      "f32f773d3ca84aa19a11065cf724c951",
      "296bae764cbf4e18b81bc12eff310235",
      "a0aded9259234e37a2c14484ee4f9677",
      "118044cf2b2b4588b619ee77996d8809",
      "40132f6e2ec84002bffd8a84907231c4",
      "5301699ad3d64dceba31314cc2bd84cf",
      "46e6ff43c6774e01869c48e5a758fa83",
      "1dd38e330b57454dacc3aaad372fa726",
      "07e8e87f02d345808ea0d0e1550d71ce",
      "c52bfd7e8b2d41cfbc0fe2c357bb0ccf",
      "bdecb41b87aa4bde80099e5a93bcec74",
      "b5231d719bfd4b35988b17de3bc14de4",
      "ba5013553dba4c62aa3e5fe610ab155e",
      "4ef26f108aa140fd9efcb391979fb5a2",
      "cd456d5797644b3ca47288dd7f24d213",
      "e08336b78a0e4a21b4f5ea62b39edbbf",
      "254b81e672f4441da22dfd3f505d4cdb",
      "4d4a8afd55a34360b4ec22f1970b9e77",
      "542ad32a867f46fb8ac8d9ba096767c6",
      "4ea3d6b5c711478db5e582873cbd192d",
      "c22364803f3d4ae2ad0cce3d02ac21e6",
      "a06c6a361af2452c82ec03f413877804",
      "0e85ca7c944f4e0dad62e955b459ccec",
      "b6df810ee3174af785d66978c24e9c17",
      "a81a6f1a790348068f71361eba6f23ff",
      "d2ec410d40024adb8fcdc083023e8532",
      "e024709a900846e1b1c7a7af147cf895",
      "d33af7b6cb24413ea9b17c05c83616c8",
      "52d1b7b940ac466a980d70dfff811c61",
      "1f2c21b55ec84767a741a9376163bf34",
      "b47f1d05082547fdb8fa884f12b36dee",
      "f9429fbdd4b046fea0ba786356fa27b1",
      "335886aaacc244cd9c958127012a8ec4",
      "97d9f7d7a1a546c0b94f220b549fdc20",
      "69d85311818b44698f72059e48d6c88b",
      "61f65772e5c143d889e66ff4aacec8ad",
      "94f09eea89784e579aa1bed9416287f9",
      "85b88d8ecb604729af9d3219bf7e251f",
      "7693def8433840ac914c3f580f6649d7",
      "0cf35269483e4012893c577aaa5b22ff",
      "33820a7c2a474174b593735f47eebfe8",
      "9cdaa42f33824698a550a10525516278",
      "1568ff5a13ab4bda9f8c18ea4d157692",
      "4c4169d06e5f4c0bb4aeff512ded49aa",
      "8b2fcbebb77e432ab4c319fef32c1eba",
      "2b0c60ef3d25483abc72c23fab5290f6",
      "840ca3da28274e129f38071fa8d8eafd",
      "eb4ddb1b323449198a04e286db35e734",
      "29f4d5dfc4a0486090f62a61d14dffee",
      "e58dbc35e89f4c27bebad3dfcfb0337e",
      "3df288214cb840a2ab4a6ef2507fde7a",
      "45d1b74cb98d41848f08c230267927bd",
      "f76b4cbaf80d44babda7428f8c357e1d",
      "0fd0d3a5f0e6494684d28bc64ebd5c94",
      "61ec9b4c3bdb4016b6db43cf03400115",
      "38f37bc2737e46fbb46a871c7af6367e",
      "8f2881b699e643acb9301e7e665e3b3d",
      "44eac89cb5b2450e9dfc40ad17f0795e",
      "86af4348c7da4e9db306453f1e74c4c1",
      "31579366eb1f43f8b0c59485caaa7900",
      "1f9536716f1c45d7929c05cf8f5360ac",
      "8edd37cc94294a5c8e30626cc061ff80",
      "1d65d2f4864040a99d71ebe9d496a1a7",
      "ec3bc437e83d4d5fb8c2d9c540e47ae5",
      "3728f4b9d3454717964c6b935bf0147d",
      "f93ae1d125674490abfaaed0f6d725d9",
      "f815248755ef4a63ac51ecd90691f7db",
      "2c9cd2cf8905411abf0ba753d2f08d33",
      "1c28311fc95a43a1ae8b2f4fc9c8aed5",
      "00d00eb69f144478b4a566518be50be9",
      "83a768391b174f26b95437c1ef5903d9",
      "085b0925f89f4306bae6e571d791c7ed",
      "1fc0882ff18943919953870ad525c2a3",
      "693d93d3a6d74f5e9990e2e4e482ad3b",
      "3d110685c19b4857b993a46e47bd71e6",
      "592e9b9ce97a42ad863212ace4b65740",
      "577a68a4b1c34669883e2e967ce3122c",
      "16e2f2d4e5a8486ea2cd2a05ede8f3d1",
      "f83868904c37498caa510db34816f4f7",
      "58cc8309e11a4a12a4b0d9ef64a43e63",
      "0cee4e6b24ab4d8f878c9e9d8d8e4b49",
      "e5fa383214c94ca0acdaae86730e83eb",
      "eb87cb2f9bde4c4b8ad5fdd46cc41c4f",
      "13ef3f34cd3944f9bced5eff208c3476",
      "85cf4e66e0e743c9b3a0b6573a827bb6"
     ]
    },
    "id": "44pqyhelSVgr",
    "outputId": "2b448b47-d678-4de3-c06f-4a6bef7c21e9"
   },
   "outputs": [
    {
     "data": {
      "application/vnd.jupyter.widget-view+json": {
       "model_id": "b1538ce705b24feb844d0cbbc383f383",
       "version_major": 2,
       "version_minor": 0
      },
      "text/plain": [
       "config.json: 0.00B [00:00, ?B/s]"
      ]
     },
     "metadata": {},
     "output_type": "display_data"
    },
    {
     "data": {
      "application/vnd.jupyter.widget-view+json": {
       "model_id": "07e8e87f02d345808ea0d0e1550d71ce",
       "version_major": 2,
       "version_minor": 0
      },
      "text/plain": [
       "pytorch_model.bin:   0%|          | 0.00/2.28G [00:00<?, ?B/s]"
      ]
     },
     "metadata": {},
     "output_type": "display_data"
    },
    {
     "data": {
      "application/vnd.jupyter.widget-view+json": {
       "model_id": "4ea3d6b5c711478db5e582873cbd192d",
       "version_major": 2,
       "version_minor": 0
      },
      "text/plain": [
       "model.safetensors:   0%|          | 0.00/2.28G [00:00<?, ?B/s]"
      ]
     },
     "metadata": {},
     "output_type": "display_data"
    },
    {
     "name": "stderr",
     "output_type": "stream",
     "text": [
      "Some weights of PegasusForConditionalGeneration were not initialized from the model checkpoint at google/pegasus-xsum and are newly initialized: ['model.decoder.embed_positions.weight', 'model.encoder.embed_positions.weight']\n",
      "You should probably TRAIN this model on a down-stream task to be able to use it for predictions and inference.\n"
     ]
    },
    {
     "data": {
      "application/vnd.jupyter.widget-view+json": {
       "model_id": "b47f1d05082547fdb8fa884f12b36dee",
       "version_major": 2,
       "version_minor": 0
      },
      "text/plain": [
       "generation_config.json:   0%|          | 0.00/259 [00:00<?, ?B/s]"
      ]
     },
     "metadata": {},
     "output_type": "display_data"
    },
    {
     "data": {
      "application/vnd.jupyter.widget-view+json": {
       "model_id": "9cdaa42f33824698a550a10525516278",
       "version_major": 2,
       "version_minor": 0
      },
      "text/plain": [
       "tokenizer_config.json:   0%|          | 0.00/87.0 [00:00<?, ?B/s]"
      ]
     },
     "metadata": {},
     "output_type": "display_data"
    },
    {
     "data": {
      "application/vnd.jupyter.widget-view+json": {
       "model_id": "f76b4cbaf80d44babda7428f8c357e1d",
       "version_major": 2,
       "version_minor": 0
      },
      "text/plain": [
       "spiece.model:   0%|          | 0.00/1.91M [00:00<?, ?B/s]"
      ]
     },
     "metadata": {},
     "output_type": "display_data"
    },
    {
     "data": {
      "application/vnd.jupyter.widget-view+json": {
       "model_id": "ec3bc437e83d4d5fb8c2d9c540e47ae5",
       "version_major": 2,
       "version_minor": 0
      },
      "text/plain": [
       "tokenizer.json: 0.00B [00:00, ?B/s]"
      ]
     },
     "metadata": {},
     "output_type": "display_data"
    },
    {
     "data": {
      "application/vnd.jupyter.widget-view+json": {
       "model_id": "3d110685c19b4857b993a46e47bd71e6",
       "version_major": 2,
       "version_minor": 0
      },
      "text/plain": [
       "special_tokens_map.json:   0%|          | 0.00/65.0 [00:00<?, ?B/s]"
      ]
     },
     "metadata": {},
     "output_type": "display_data"
    },
    {
     "name": "stderr",
     "output_type": "stream",
     "text": [
      "Device set to use cuda:0\n"
     ]
    }
   ],
   "source": [
    "model_2 = \"google/pegasus-xsum\"\n",
    "summarizer_2 = pipeline(\"summarization\", model=model_2)"
   ]
  },
  {
   "cell_type": "code",
   "execution_count": 57,
   "metadata": {
    "colab": {
     "base_uri": "https://localhost:8080/"
    },
    "id": "SHtAOPqMSyx9",
    "outputId": "3a39a119-4054-484a-f276-7b858fb3250e"
   },
   "outputs": [
    {
     "name": "stdout",
     "output_type": "stream",
     "text": [
      "[{'summary_text': 'The world’s largest software company has teamed up with a leading artificial intelligence (AI) firm, OpenAI, to create the world’s most'}]\n"
     ]
    }
   ],
   "source": [
    "print(summarizer_2(text, max_length=32, min_length=30, do_sample=False))"
   ]
  },
  {
   "cell_type": "code",
   "execution_count": 59,
   "metadata": {
    "colab": {
     "base_uri": "https://localhost:8080/"
    },
    "id": "WBFmOvW6S7Yi",
    "outputId": "e3efb687-d13e-4c27-d664-de2ea403741d"
   },
   "outputs": [
    {
     "name": "stdout",
     "output_type": "stream",
     "text": [
      "The world’s largest software company has teamed up with a leading artificial intelligence (AI) firm, OpenAI, to create the world’s most\n"
     ]
    }
   ],
   "source": [
    "summary_2 = summarizer_2(text, max_length=32, min_length=30, do_sample=False)[0]['summary_text']\n",
    "print(summary_2)"
   ]
  },
  {
   "cell_type": "markdown",
   "metadata": {
    "id": "7CXrvdOjUEfQ"
   },
   "source": [
    "# Sentiment Analysis"
   ]
  },
  {
   "cell_type": "code",
   "execution_count": 60,
   "metadata": {
    "colab": {
     "base_uri": "https://localhost:8080/",
     "height": 258,
     "referenced_widgets": [
      "695b49822c154839ac9416297300f8f1",
      "4901b40280cc4a25937ff19ac196f2ba",
      "9d4441d9d54645eabc44f155d4ed6ee0",
      "abddf828b48b4350b2a51cc98ccfb0ab",
      "987602cf914342b6bd24ca39d365189a",
      "8660723b01d94cde80a356ae133d0f30",
      "9e3a33cf7b584010b355d82e983c23dc",
      "6c4b824019bd4a359dc23ce43db19954",
      "e3f012076b2f40ab842fe58c81029abc",
      "61d87c32826145a88a4c7521a0d36b9b",
      "f25d3fdaae854543adcf2da32ede5193",
      "3bd91538dc424ea0bcba2b34e51b4366",
      "a19d6617f9bc45b6b7d56f7b1e38fd16",
      "a074674d38db4a4693f04b4cc2d73a81",
      "b2875b960d74437ebf8d7d94a1987e67",
      "a1f5359a3a49411a8f944ff4846f5fa4",
      "4679aa35ea624030ae58db81d24ebdb1",
      "ec2ff92dcfb844f7aced5b412f4d08af",
      "86b30231715e48dd983f0e41b4006f93",
      "ee7aa767f23340f2afd77cc4b449dca6",
      "b82a10c730a641c392dddebe0926139a",
      "32fcab4fddc44f06ab57d553ed1312a1",
      "c7d3a902bb4e4cfeb47bf0de033f7886",
      "b9756da7876242d4afd6f6ee72787a42",
      "90085c8c329a4f9ca7133e4572caa30d",
      "206081aef8674fdca01020cba257fdc8",
      "dbcee21ebc464797845d071940a6ea1e",
      "bc276814da934544abe2b8d542f3d528",
      "95affadddec846c29bcf678de2686928",
      "ac5c7a1d644846a298b0c6a40236661f",
      "b85f2756bf444edf9c87135e4834abe2",
      "88b49d96cb724e82976709790279c492",
      "be0fc71914ac4d489b24e57a23d77e03",
      "765eb75411ea4f2697c9f2d7cf4ff1ce",
      "c9eb9ad7928f46b3a0573ccbc7e1d1cf",
      "b49ac78d5fe44e0a9fea2415037b0a44",
      "c544165fe1ae4cb98a9a4819c7a099f9",
      "730f5f09df224cf084c51877062a5a5d",
      "e31d8ced9304437bb27c39c5ce2aab74",
      "1b076c73a50d492fb2ecec0c8c502637",
      "d8a783194a63459a862405b0e95737c5",
      "2e2f048aa34e424f82f5cc8c97c59fda",
      "e150470137ad4aee8604cce97fb3a310",
      "4b8119fcf91947d69d12a7e941d8d3b7",
      "4734a76a14ad4d7cb1c1e0ba7edf0ffd",
      "88541ef172924a9291c388b3e4c154ff",
      "2854c7dc468e49e18609a29997e58ad4",
      "bf140340d94540d4a34e033890ba8b20",
      "de2859d548b940ba8c6ed9d746d17b5b",
      "cf5fec6bdfc640acb6b066315f0d70b7",
      "4ab525105cb645f68a696a914cbcb606",
      "7070bb42def64daa9730c4fe089beb8f",
      "33c675df53a544ddb71594f7a27436e2",
      "33be152314f54e44955eb5c0e5b42fb7",
      "348a7d755c84407685b5236cadee76d9",
      "47ee4f38c7764f83a4f5e9313313b05e",
      "b1807e4d8293467bbafb296d7f4f8e56",
      "1db4a404f6ff4e6b8169534e30c68d5b",
      "d2ab27eb3a7e4d1585c0a6852a6d1997",
      "7f3a53bdbb394cf4855564885f7cc172",
      "92fd57ef9a784c4fa21881ac86a8a090",
      "9155b2673f0e44d297ad350245d727e6",
      "0c21cf1900ed46de806080cb7140265c",
      "ea4c9eef17ae476eae1482cceca8aed3",
      "ce372fea5e6446c3a9f91a8f559eff34",
      "d4c033509dd643539305044a864b380c",
      "6ac4b60b3c07435a88a83f0bb2682f24",
      "411f1a959ae3404589eaf6eb2a11250e",
      "c4cde4b167874ef0b1f76c379c719163",
      "dec44e4d92c1489ba083a293a21c0eef",
      "1bec3e4f72f942f49820b715fb99c669",
      "8bcaebfc7a86419b9eb16363b60729a3",
      "51e3e516f991410184cb237a0a3d4fc1",
      "e4847dfb233f4bb48da35a68567684af",
      "330d4e243db2412b84e4efd5282adf12",
      "2f19578cb23f45038c0b3acee0c2ea00",
      "a4bdfc3679ea407ab0ae9f04c1224645"
     ]
    },
    "id": "RybtL9ogUIwl",
    "outputId": "29cd796a-c797-43c1-fea4-41a8ba923fdc"
   },
   "outputs": [
    {
     "data": {
      "application/vnd.jupyter.widget-view+json": {
       "model_id": "695b49822c154839ac9416297300f8f1",
       "version_major": 2,
       "version_minor": 0
      },
      "text/plain": [
       "config.json:   0%|          | 0.00/687 [00:00<?, ?B/s]"
      ]
     },
     "metadata": {},
     "output_type": "display_data"
    },
    {
     "data": {
      "application/vnd.jupyter.widget-view+json": {
       "model_id": "3bd91538dc424ea0bcba2b34e51b4366",
       "version_major": 2,
       "version_minor": 0
      },
      "text/plain": [
       "pytorch_model.bin:   0%|          | 0.00/1.42G [00:00<?, ?B/s]"
      ]
     },
     "metadata": {},
     "output_type": "display_data"
    },
    {
     "data": {
      "application/vnd.jupyter.widget-view+json": {
       "model_id": "c7d3a902bb4e4cfeb47bf0de033f7886",
       "version_major": 2,
       "version_minor": 0
      },
      "text/plain": [
       "model.safetensors:   0%|          | 0.00/1.42G [00:00<?, ?B/s]"
      ]
     },
     "metadata": {},
     "output_type": "display_data"
    },
    {
     "data": {
      "application/vnd.jupyter.widget-view+json": {
       "model_id": "765eb75411ea4f2697c9f2d7cf4ff1ce",
       "version_major": 2,
       "version_minor": 0
      },
      "text/plain": [
       "tokenizer_config.json:   0%|          | 0.00/256 [00:00<?, ?B/s]"
      ]
     },
     "metadata": {},
     "output_type": "display_data"
    },
    {
     "data": {
      "application/vnd.jupyter.widget-view+json": {
       "model_id": "4734a76a14ad4d7cb1c1e0ba7edf0ffd",
       "version_major": 2,
       "version_minor": 0
      },
      "text/plain": [
       "vocab.json: 0.00B [00:00, ?B/s]"
      ]
     },
     "metadata": {},
     "output_type": "display_data"
    },
    {
     "data": {
      "application/vnd.jupyter.widget-view+json": {
       "model_id": "47ee4f38c7764f83a4f5e9313313b05e",
       "version_major": 2,
       "version_minor": 0
      },
      "text/plain": [
       "merges.txt: 0.00B [00:00, ?B/s]"
      ]
     },
     "metadata": {},
     "output_type": "display_data"
    },
    {
     "data": {
      "application/vnd.jupyter.widget-view+json": {
       "model_id": "6ac4b60b3c07435a88a83f0bb2682f24",
       "version_major": 2,
       "version_minor": 0
      },
      "text/plain": [
       "special_tokens_map.json:   0%|          | 0.00/150 [00:00<?, ?B/s]"
      ]
     },
     "metadata": {},
     "output_type": "display_data"
    },
    {
     "name": "stderr",
     "output_type": "stream",
     "text": [
      "Device set to use cuda:0\n"
     ]
    }
   ],
   "source": [
    "sentiment_analysis = pipeline(\"sentiment-analysis\",model=\"siebert/sentiment-roberta-large-english\")"
   ]
  },
  {
   "cell_type": "code",
   "execution_count": 61,
   "metadata": {
    "colab": {
     "base_uri": "https://localhost:8080/"
    },
    "id": "vbcF2ELxVJss",
    "outputId": "69b98822-7007-457a-c976-cb9f4c948fe6"
   },
   "outputs": [
    {
     "name": "stdout",
     "output_type": "stream",
     "text": [
      "[{'label': 'POSITIVE', 'score': 0.9985271692276001}]\n"
     ]
    }
   ],
   "source": [
    "print(sentiment_analysis(text))"
   ]
  },
  {
   "cell_type": "code",
   "execution_count": 62,
   "metadata": {
    "colab": {
     "base_uri": "https://localhost:8080/"
    },
    "id": "eGdk4mjjVTqn",
    "outputId": "97af7d03-ec7b-4fb7-eec5-9fc3a886fa22"
   },
   "outputs": [
    {
     "name": "stdout",
     "output_type": "stream",
     "text": [
      "[{'label': 'POSITIVE', 'score': 0.9985944628715515}]\n"
     ]
    }
   ],
   "source": [
    "print(sentiment_analysis(summary_2))"
   ]
  }
 ],
 "metadata": {
  "accelerator": "GPU",
  "colab": {
   "gpuType": "T4",
   "provenance": []
  },
  "kernelspec": {
   "display_name": "Python 3",
   "name": "python3"
  },
  "language_info": {
   "name": "python"
  }
 },
 "nbformat": 4,
 "nbformat_minor": 0
}
